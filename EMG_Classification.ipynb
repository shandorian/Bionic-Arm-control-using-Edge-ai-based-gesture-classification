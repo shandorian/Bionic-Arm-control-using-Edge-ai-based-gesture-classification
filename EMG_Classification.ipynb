{
  "nbformat": 4,
  "nbformat_minor": 0,
  "metadata": {
    "colab": {
      "provenance": []
    },
    "kernelspec": {
      "name": "python3",
      "display_name": "Python 3"
    },
    "language_info": {
      "name": "python"
    }
  },
  "cells": [
    {
      "cell_type": "code",
      "execution_count": null,
      "metadata": {
        "id": "04ZBwPaoZ_Gd"
      },
      "outputs": [],
      "source": [
        "import random\n",
        "\n",
        "import numpy as np\n",
        "import pandas as pd\n",
        "import matplotlib.pyplot as plt\n",
        "\n",
        "import scipy.io\n",
        "import scipy\n",
        "from scipy import signal\n",
        "\n",
        "from sklearn.model_selection import train_test_split\n",
        "from sklearn.svm import SVC\n",
        "from sklearn.preprocessing import StandardScaler\n",
        "from sklearn.pipeline import make_pipeline\n",
        "from sklearn.cluster import KMeans\n",
        "from sklearn.decomposition import PCA\n",
        "from sklearn.model_selection import GridSearchCV\n",
        "from sklearn.linear_model import LogisticRegression\n",
        "from sklearn.neural_network import MLPClassifier\n",
        "from sklearn.neighbors import KNeighborsClassifier\n",
        "from sklearn.gaussian_process import GaussianProcessClassifier\n",
        "from sklearn.gaussian_process.kernels import RBF\n",
        "from sklearn.naive_bayes import GaussianNB\n",
        "from sklearn.mixture import GaussianMixture as GMM\n",
        "from sklearn import preprocessing"
      ]
    },
    {
      "cell_type": "code",
      "source": [
        "DATABASE = {\n",
        "    'Database 1': ['female_1',\n",
        "                  'female_2',\n",
        "                  'female_3',\n",
        "                  'male_1',\n",
        "                  'male_2'],\n",
        "    'Database 2': ['male_day_1',\n",
        "                  'male_day_2',\n",
        "                  'male_day_3']\n",
        "}\n",
        "\n",
        "COLUMNS = ['cyl_ch1',\n",
        "            'cyl_ch2',\n",
        "            'hook_ch1',\n",
        "            'hook_ch2',\n",
        "            'tip_ch1',\n",
        "            'tip_ch2',\n",
        "            'palm_ch1',\n",
        "            'palm_ch2',\n",
        "            'spher_ch1',\n",
        "            'spher_ch2',\n",
        "            'lat_ch1',\n",
        "            'lat_ch2']\n",
        "\n",
        "LABELS = [\n",
        "    'Spherical',\n",
        "    'Tip',\n",
        "    'Palmar',\n",
        "    'Lateral',\n",
        "    'Cylindrical',\n",
        "    'Hook'\n",
        "]\n",
        "\n",
        "COLUMN_MAPPINGS = {\n",
        "            'cyl_ch1': 'Cylindrical',\n",
        "            'cyl_ch2': 'Cylindrical',\n",
        "            'hook_ch1': 'Hook',\n",
        "            'hook_ch2': 'Hook',\n",
        "            'tip_ch1': 'Tip',\n",
        "            'tip_ch2': 'Tip',\n",
        "            'palm_ch1': 'Palmar',\n",
        "            'palm_ch2': 'Palmar',\n",
        "            'spher_ch1': 'Spherical',\n",
        "            'spher_ch2': 'Spherical',\n",
        "            'lat_ch1': 'Lateral',\n",
        "            'lat_ch2': 'Lateral'\n",
        "}"
      ],
      "metadata": {
        "id": "8pbrpv_5bdGi"
      },
      "execution_count": null,
      "outputs": []
    },
    {
      "cell_type": "code",
      "source": [
        "DB_NAME = 'Database 1'\n",
        "dfs = []\n",
        "for fname in DATABASE[DB_NAME]:\n",
        "    tmp_data = scipy.io.loadmat(f'/content/{DB_NAME}/{fname}.mat')\n",
        "    tmp_data = {k:v for k,v in tmp_data.items() if k in COLUMNS}\n",
        "    for c in COLUMNS:\n",
        "        tmp_dfx = pd.DataFrame(tmp_data[c])\n",
        "        tmp_dfx['identifier'] = fname\n",
        "        tmp_dfx['label'] = COLUMN_MAPPINGS[c]\n",
        "        dfs.append(pd.DataFrame(tmp_dfx))\n",
        "\n",
        "\n",
        "dataset_ = pd.concat(dfs)\n",
        "\n",
        "new_dfs = []\n",
        "for lab in LABELS:\n",
        "    new_temp = dataset_[dataset_['label'] == lab].values\n",
        "    new_temp_comb = pd.DataFrame(np.concatenate((new_temp[:150,:3000],new_temp[150:,:3002]),axis=1))\n",
        "    new_dfs.append(new_temp_comb)\n",
        "\n",
        "dataset = pd.concat(new_dfs)\n",
        "dataset.rename(columns={6001:'label', 6000:'identifier'}, inplace=True)\n",
        "dataset.head()\n",
        "\n",
        "df_features = dataset.iloc[:,:6000].copy()\n",
        "df_labels = dataset.iloc[:, 6001]"
      ],
      "metadata": {
        "id": "ZhbzrqeBca5Q"
      },
      "execution_count": null,
      "outputs": []
    },
    {
      "cell_type": "code",
      "source": [
        "#PCA Transform\n",
        "n = 20\n",
        "pca = PCA(n_components=n).fit(df_holt.T)\n",
        "df_pca = pca.components_.T\n",
        "iso = Isomap(n_components=n)\n",
        "df_iso = iso.fit_transform(df_holt)"
      ],
      "metadata": {
        "id": "XuOzCN9gcron"
      },
      "execution_count": null,
      "outputs": []
    },
    {
      "cell_type": "code",
      "source": [
        "label_dict = {\n",
        "    'Spherical':1,\n",
        "    'Tip':2,\n",
        "    'Palmar':3,\n",
        "    'Lateral':4,\n",
        "    'Cylindrical':5,\n",
        "    'Hook':6}\n",
        "\n",
        "col = [label_dict[i] for i in df_labels.to_list()]"
      ],
      "metadata": {
        "id": "U00A-_WNcusE"
      },
      "execution_count": null,
      "outputs": []
    },
    {
      "cell_type": "code",
      "source": [
        "svm_res = []\n",
        "log_res = []\n",
        "nn_res = []\n",
        "nb_res = []\n",
        "kmeans_res = []\n",
        "gmm_res = []\n",
        "\n",
        "\n",
        "for i in range(0,10):\n",
        "    X_train, X_test, y_train, y_test = train_test_split(df_iso,\n",
        "                                                        df_labels,\n",
        "                                                        test_size=0.2,\n",
        "                                                        random_state=i)\n",
        "\n",
        "\n",
        "    le = preprocessing.LabelEncoder()\n",
        "    le.fit(y_train)\n",
        "    clf_svc = make_pipeline(StandardScaler(), SVC(gamma='auto', C=10))\n",
        "    clf_log = make_pipeline(StandardScaler(), LogisticRegression(C=10, max_iter=1000))\n",
        "    clf_nn = make_pipeline(StandardScaler(), MLPClassifier(hidden_layer_sizes=(200,200,200), max_iter=2000))\n",
        "    clf_nb = make_pipeline(StandardScaler(), GaussianNB())\n",
        "    clf_kmeans = make_pipeline(StandardScaler(), KMeans(n_clusters=len(LABELS)))\n",
        "    clf_gmm = make_pipeline(StandardScaler(), GMM(n_components=len(LABELS)))\n",
        "\n",
        "    clfs = [clf_svc,\n",
        "            clf_log,\n",
        "            clf_nn,\n",
        "            clf_nb,\n",
        "            clf_kmeans,\n",
        "            clf_gmm]\n",
        "\n",
        "    for c in clfs:\n",
        "        c.fit(X_train, y_train)\n",
        "\n",
        "    svm_labels = clf_svc.predict(X_test)\n",
        "    log_labels = clf_log.predict(X_test)\n",
        "    nn_labels = clf_nn.predict(X_test)\n",
        "    nb_labels = clf_nb.predict(X_test)\n",
        "    kmeans_labels = clf_kmeans.predict(X_test)\n",
        "    gmm_labels = clf_gmm.predict(X_test)\n",
        "\n",
        "    svm_res.append(((svm_labels == y_test).value_counts()/len(X_test))[1])\n",
        "    log_res.append(((log_labels == y_test).value_counts()/len(X_test))[1])\n",
        "    nn_res.append(((nn_labels == y_test).value_counts()/len(X_test))[1])\n",
        "    nb_res.append(((nb_labels == y_test).value_counts()/len(X_test))[1])\n",
        "    kmeans_res.append(1 - (sum([abs(i[0] - i[1]) for i in zip(sorted(np.bincount(le.transform(y_test))),\n",
        "                                       sorted(np.bincount(kmeans_labels)))])/len(y_test)))\n",
        "    gmm_res.append(1 - (sum([abs(i[0] - i[1]) for i in zip(sorted(np.bincount(le.transform(y_test))),\n",
        "                                       sorted(np.bincount(gmm_labels)))])/len(y_test)))\n",
        "\n",
        "svm_score = np.max(np.max(np.array(svm_res)))\n",
        "log_score = np.max(np.max(np.array(log_res)))\n",
        "nn_score = np.max(np.max(np.array(nn_res)))\n",
        "nb_score = np.max(np.max(np.array(nb_res)))\n",
        "kmeans_score = np.max(np.max(np.array(kmeans_res)))\n",
        "gmm_score = np.max(np.max(np.array(gmm_res)))"
      ],
      "metadata": {
        "colab": {
          "base_uri": "https://localhost:8080/"
        },
        "id": "aGq-ttDXc7UH",
        "outputId": "9f1da8a7-f643-4642-ee4e-24b14cec3b0c"
      },
      "execution_count": null,
      "outputs": [
        {
          "output_type": "stream",
          "name": "stderr",
          "text": [
            "/usr/local/lib/python3.10/dist-packages/sklearn/cluster/_kmeans.py:870: FutureWarning: The default value of `n_init` will change from 10 to 'auto' in 1.4. Set the value of `n_init` explicitly to suppress the warning\n",
            "  warnings.warn(\n",
            "/usr/local/lib/python3.10/dist-packages/sklearn/cluster/_kmeans.py:870: FutureWarning: The default value of `n_init` will change from 10 to 'auto' in 1.4. Set the value of `n_init` explicitly to suppress the warning\n",
            "  warnings.warn(\n",
            "/usr/local/lib/python3.10/dist-packages/sklearn/cluster/_kmeans.py:870: FutureWarning: The default value of `n_init` will change from 10 to 'auto' in 1.4. Set the value of `n_init` explicitly to suppress the warning\n",
            "  warnings.warn(\n",
            "/usr/local/lib/python3.10/dist-packages/sklearn/cluster/_kmeans.py:870: FutureWarning: The default value of `n_init` will change from 10 to 'auto' in 1.4. Set the value of `n_init` explicitly to suppress the warning\n",
            "  warnings.warn(\n",
            "/usr/local/lib/python3.10/dist-packages/sklearn/cluster/_kmeans.py:870: FutureWarning: The default value of `n_init` will change from 10 to 'auto' in 1.4. Set the value of `n_init` explicitly to suppress the warning\n",
            "  warnings.warn(\n",
            "/usr/local/lib/python3.10/dist-packages/sklearn/cluster/_kmeans.py:870: FutureWarning: The default value of `n_init` will change from 10 to 'auto' in 1.4. Set the value of `n_init` explicitly to suppress the warning\n",
            "  warnings.warn(\n",
            "/usr/local/lib/python3.10/dist-packages/sklearn/cluster/_kmeans.py:870: FutureWarning: The default value of `n_init` will change from 10 to 'auto' in 1.4. Set the value of `n_init` explicitly to suppress the warning\n",
            "  warnings.warn(\n",
            "/usr/local/lib/python3.10/dist-packages/sklearn/cluster/_kmeans.py:870: FutureWarning: The default value of `n_init` will change from 10 to 'auto' in 1.4. Set the value of `n_init` explicitly to suppress the warning\n",
            "  warnings.warn(\n",
            "/usr/local/lib/python3.10/dist-packages/sklearn/cluster/_kmeans.py:870: FutureWarning: The default value of `n_init` will change from 10 to 'auto' in 1.4. Set the value of `n_init` explicitly to suppress the warning\n",
            "  warnings.warn(\n",
            "/usr/local/lib/python3.10/dist-packages/sklearn/cluster/_kmeans.py:870: FutureWarning: The default value of `n_init` will change from 10 to 'auto' in 1.4. Set the value of `n_init` explicitly to suppress the warning\n",
            "  warnings.warn(\n"
          ]
        }
      ]
    },
    {
      "cell_type": "code",
      "source": [
        "print(\"SVM Accuracy: \", svm_score)\n",
        "print(\"LR Accuracy: \", log_score)\n",
        "print(\"Neural Network accuracy:\", nn_score)\n",
        "print(\"Naive Bayes accuracy\", nb_score)\n",
        "print(\"K-Means accuracy:\", kmeans_score)\n",
        "print(\"GMM accuracy\", gmm_score)"
      ],
      "metadata": {
        "colab": {
          "base_uri": "https://localhost:8080/"
        },
        "id": "6rwinz1hc9-a",
        "outputId": "6f8af246-1236-4aa6-9347-475409e41c78"
      },
      "execution_count": null,
      "outputs": [
        {
          "output_type": "stream",
          "name": "stdout",
          "text": [
            "SVM Accuracy:  0.49444444444444446\n",
            "LR Accuracy:  0.4388888888888889\n",
            "Neural Network accuracy: 0.5\n",
            "Naive Bayes accuracy 0.5\n",
            "K-Means accuracy: 0.6444444444444444\n",
            "GMM accuracy 0.7333333333333334\n"
          ]
        }
      ]
    },
    {
      "cell_type": "code",
      "source": [],
      "metadata": {
        "id": "eb4mADo4irRk"
      },
      "execution_count": null,
      "outputs": []
    }
  ]
}